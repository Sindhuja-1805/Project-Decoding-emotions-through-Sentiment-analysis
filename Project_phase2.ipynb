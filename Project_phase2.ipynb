{
  "nbformat": 4,
  "nbformat_minor": 0,
  "metadata": {
    "colab": {
      "provenance": []
    },
    "kernelspec": {
      "name": "python3",
      "display_name": "Python 3"
    },
    "language_info": {
      "name": "python"
    }
  },
  "cells": [
    {
      "cell_type": "markdown",
      "source": [
        " Upload the Dataset\n"
      ],
      "metadata": {
        "id": "7bUyda9Uagdx"
      }
    },
    {
      "cell_type": "code",
      "source": [
        "from google.colab import files\n",
        "uploaded = files.upload()\n"
      ],
      "metadata": {
        "colab": {
          "base_uri": "https://localhost:8080/",
          "height": 73
        },
        "id": "l1ePgqlPanOh",
        "outputId": "77d076c4-0535-4007-cca2-bb34d0b49782"
      },
      "execution_count": null,
      "outputs": [
        {
          "output_type": "display_data",
          "data": {
            "text/plain": [
              "<IPython.core.display.HTML object>"
            ],
            "text/html": [
              "\n",
              "     <input type=\"file\" id=\"files-cb3ac51e-68e6-4a2e-8986-87cc3997fa5d\" name=\"files[]\" multiple disabled\n",
              "        style=\"border:none\" />\n",
              "     <output id=\"result-cb3ac51e-68e6-4a2e-8986-87cc3997fa5d\">\n",
              "      Upload widget is only available when the cell has been executed in the\n",
              "      current browser session. Please rerun this cell to enable.\n",
              "      </output>\n",
              "      <script>// Copyright 2017 Google LLC\n",
              "//\n",
              "// Licensed under the Apache License, Version 2.0 (the \"License\");\n",
              "// you may not use this file except in compliance with the License.\n",
              "// You may obtain a copy of the License at\n",
              "//\n",
              "//      http://www.apache.org/licenses/LICENSE-2.0\n",
              "//\n",
              "// Unless required by applicable law or agreed to in writing, software\n",
              "// distributed under the License is distributed on an \"AS IS\" BASIS,\n",
              "// WITHOUT WARRANTIES OR CONDITIONS OF ANY KIND, either express or implied.\n",
              "// See the License for the specific language governing permissions and\n",
              "// limitations under the License.\n",
              "\n",
              "/**\n",
              " * @fileoverview Helpers for google.colab Python module.\n",
              " */\n",
              "(function(scope) {\n",
              "function span(text, styleAttributes = {}) {\n",
              "  const element = document.createElement('span');\n",
              "  element.textContent = text;\n",
              "  for (const key of Object.keys(styleAttributes)) {\n",
              "    element.style[key] = styleAttributes[key];\n",
              "  }\n",
              "  return element;\n",
              "}\n",
              "\n",
              "// Max number of bytes which will be uploaded at a time.\n",
              "const MAX_PAYLOAD_SIZE = 100 * 1024;\n",
              "\n",
              "function _uploadFiles(inputId, outputId) {\n",
              "  const steps = uploadFilesStep(inputId, outputId);\n",
              "  const outputElement = document.getElementById(outputId);\n",
              "  // Cache steps on the outputElement to make it available for the next call\n",
              "  // to uploadFilesContinue from Python.\n",
              "  outputElement.steps = steps;\n",
              "\n",
              "  return _uploadFilesContinue(outputId);\n",
              "}\n",
              "\n",
              "// This is roughly an async generator (not supported in the browser yet),\n",
              "// where there are multiple asynchronous steps and the Python side is going\n",
              "// to poll for completion of each step.\n",
              "// This uses a Promise to block the python side on completion of each step,\n",
              "// then passes the result of the previous step as the input to the next step.\n",
              "function _uploadFilesContinue(outputId) {\n",
              "  const outputElement = document.getElementById(outputId);\n",
              "  const steps = outputElement.steps;\n",
              "\n",
              "  const next = steps.next(outputElement.lastPromiseValue);\n",
              "  return Promise.resolve(next.value.promise).then((value) => {\n",
              "    // Cache the last promise value to make it available to the next\n",
              "    // step of the generator.\n",
              "    outputElement.lastPromiseValue = value;\n",
              "    return next.value.response;\n",
              "  });\n",
              "}\n",
              "\n",
              "/**\n",
              " * Generator function which is called between each async step of the upload\n",
              " * process.\n",
              " * @param {string} inputId Element ID of the input file picker element.\n",
              " * @param {string} outputId Element ID of the output display.\n",
              " * @return {!Iterable<!Object>} Iterable of next steps.\n",
              " */\n",
              "function* uploadFilesStep(inputId, outputId) {\n",
              "  const inputElement = document.getElementById(inputId);\n",
              "  inputElement.disabled = false;\n",
              "\n",
              "  const outputElement = document.getElementById(outputId);\n",
              "  outputElement.innerHTML = '';\n",
              "\n",
              "  const pickedPromise = new Promise((resolve) => {\n",
              "    inputElement.addEventListener('change', (e) => {\n",
              "      resolve(e.target.files);\n",
              "    });\n",
              "  });\n",
              "\n",
              "  const cancel = document.createElement('button');\n",
              "  inputElement.parentElement.appendChild(cancel);\n",
              "  cancel.textContent = 'Cancel upload';\n",
              "  const cancelPromise = new Promise((resolve) => {\n",
              "    cancel.onclick = () => {\n",
              "      resolve(null);\n",
              "    };\n",
              "  });\n",
              "\n",
              "  // Wait for the user to pick the files.\n",
              "  const files = yield {\n",
              "    promise: Promise.race([pickedPromise, cancelPromise]),\n",
              "    response: {\n",
              "      action: 'starting',\n",
              "    }\n",
              "  };\n",
              "\n",
              "  cancel.remove();\n",
              "\n",
              "  // Disable the input element since further picks are not allowed.\n",
              "  inputElement.disabled = true;\n",
              "\n",
              "  if (!files) {\n",
              "    return {\n",
              "      response: {\n",
              "        action: 'complete',\n",
              "      }\n",
              "    };\n",
              "  }\n",
              "\n",
              "  for (const file of files) {\n",
              "    const li = document.createElement('li');\n",
              "    li.append(span(file.name, {fontWeight: 'bold'}));\n",
              "    li.append(span(\n",
              "        `(${file.type || 'n/a'}) - ${file.size} bytes, ` +\n",
              "        `last modified: ${\n",
              "            file.lastModifiedDate ? file.lastModifiedDate.toLocaleDateString() :\n",
              "                                    'n/a'} - `));\n",
              "    const percent = span('0% done');\n",
              "    li.appendChild(percent);\n",
              "\n",
              "    outputElement.appendChild(li);\n",
              "\n",
              "    const fileDataPromise = new Promise((resolve) => {\n",
              "      const reader = new FileReader();\n",
              "      reader.onload = (e) => {\n",
              "        resolve(e.target.result);\n",
              "      };\n",
              "      reader.readAsArrayBuffer(file);\n",
              "    });\n",
              "    // Wait for the data to be ready.\n",
              "    let fileData = yield {\n",
              "      promise: fileDataPromise,\n",
              "      response: {\n",
              "        action: 'continue',\n",
              "      }\n",
              "    };\n",
              "\n",
              "    // Use a chunked sending to avoid message size limits. See b/62115660.\n",
              "    let position = 0;\n",
              "    do {\n",
              "      const length = Math.min(fileData.byteLength - position, MAX_PAYLOAD_SIZE);\n",
              "      const chunk = new Uint8Array(fileData, position, length);\n",
              "      position += length;\n",
              "\n",
              "      const base64 = btoa(String.fromCharCode.apply(null, chunk));\n",
              "      yield {\n",
              "        response: {\n",
              "          action: 'append',\n",
              "          file: file.name,\n",
              "          data: base64,\n",
              "        },\n",
              "      };\n",
              "\n",
              "      let percentDone = fileData.byteLength === 0 ?\n",
              "          100 :\n",
              "          Math.round((position / fileData.byteLength) * 100);\n",
              "      percent.textContent = `${percentDone}% done`;\n",
              "\n",
              "    } while (position < fileData.byteLength);\n",
              "  }\n",
              "\n",
              "  // All done.\n",
              "  yield {\n",
              "    response: {\n",
              "      action: 'complete',\n",
              "    }\n",
              "  };\n",
              "}\n",
              "\n",
              "scope.google = scope.google || {};\n",
              "scope.google.colab = scope.google.colab || {};\n",
              "scope.google.colab._files = {\n",
              "  _uploadFiles,\n",
              "  _uploadFilesContinue,\n",
              "};\n",
              "})(self);\n",
              "</script> "
            ]
          },
          "metadata": {}
        },
        {
          "output_type": "stream",
          "name": "stdout",
          "text": [
            "Saving sentiment-analysis-the-simpsons.ipynb to sentiment-analysis-the-simpsons.ipynb\n"
          ]
        }
      ]
    },
    {
      "cell_type": "markdown",
      "source": [
        " Load the Dataset\n"
      ],
      "metadata": {
        "id": "upU6itK1bFiX"
      }
    },
    {
      "cell_type": "code",
      "source": [
        "import pandas as pd\n",
        "\n",
        "# Sample data (manually defined)\n",
        "data = [\n",
        "    {\"text\": \"I'm feeling great today!\", \"emotion\": \"joy\"},\n",
        "    {\"text\": \"This is so frustrating and annoying.\", \"emotion\": \"anger\"},\n",
        "    {\"text\": \"I miss you so much.\", \"emotion\": \"sadness\"},\n",
        "    {\"text\": \"I’m scared about the future.\", \"emotion\": \"fear\"},\n",
        "    {\"text\": \"What a wonderful surprise!\", \"emotion\": \"surprise\"}\n",
        "]\n",
        "\n",
        "# Create DataFrame\n",
        "df = pd.DataFrame(data)\n",
        "\n",
        "# Display the data\n",
        "print(df)\n"
      ],
      "metadata": {
        "colab": {
          "base_uri": "https://localhost:8080/"
        },
        "id": "LF8_x5V1cVCA",
        "outputId": "bda12bf5-c13b-42e0-ebe8-fc7387e52851"
      },
      "execution_count": null,
      "outputs": [
        {
          "output_type": "stream",
          "name": "stdout",
          "text": [
            "                                   text   emotion\n",
            "0              I'm feeling great today!       joy\n",
            "1  This is so frustrating and annoying.     anger\n",
            "2                   I miss you so much.   sadness\n",
            "3          I’m scared about the future.      fear\n",
            "4            What a wonderful surprise!  surprise\n"
          ]
        }
      ]
    },
    {
      "cell_type": "markdown",
      "source": [
        "Data Exploration\n"
      ],
      "metadata": {
        "id": "WYg5Dd2BcXew"
      }
    },
    {
      "cell_type": "code",
      "source": [
        "import pandas as pd\n",
        "import matplotlib.pyplot as plt\n",
        "import seaborn as sns\n",
        "\n",
        "# Sample social media emotion dataset\n",
        "data = [\n",
        "    {\"text\": \"I'm feeling great today!\", \"emotion\": \"joy\"},\n",
        "    {\"text\": \"This is so frustrating and annoying.\", \"emotion\": \"anger\"},\n",
        "    {\"text\": \"I miss you so much.\", \"emotion\": \"sadness\"},\n",
        "    {\"text\": \"I’m scared about the future.\", \"emotion\": \"fear\"},\n",
        "    {\"text\": \"What a wonderful surprise!\", \"emotion\": \"surprise\"},\n",
        "    {\"text\": \"I’m so proud of myself!\", \"emotion\": \"joy\"},\n",
        "    {\"text\": \"Everything is going wrong!\", \"emotion\": \"anger\"},\n",
        "    {\"text\": \"I just want to cry.\", \"emotion\": \"sadness\"},\n",
        "    {\"text\": \"That really shocked me!\", \"emotion\": \"surprise\"},\n",
        "    {\"text\": \"I feel anxious and nervous.\", \"emotion\": \"fear\"}\n",
        "]\n",
        "\n",
        "# Create DataFrame\n",
        "df = pd.DataFrame(data)\n",
        "\n",
        "# Display first few rows\n",
        "print(\"Dataset Preview:\\n\", df.head())\n",
        "\n",
        "# Dataset shape\n",
        "print(\"\\nDataset Shape:\", df.shape)\n",
        "\n",
        "# Data types\n",
        "print(\"\\nData Types:\\n\", df.dtypes)\n",
        "\n",
        "# Check for missing values\n",
        "print(\"\\nMissing Values:\\n\", df.isnull().sum())\n",
        "\n",
        "# Emotion class distribution\n",
        "print(\"\\nEmotion Distribution:\\n\", df['emotion'].value_counts())\n",
        "\n",
        "# Plotting emotion distribution\n",
        "plt.figure(figsize=(8, 5))\n",
        "sns.countplot(data=df, x='emotion', palette='Set2')\n",
        "plt.title('Emotion Distribution in Social Media Posts')\n",
        "plt.xlabel('Emotion')\n",
        "plt.ylabel('Count')\n",
        "plt.grid(True)\n",
        "plt.tight_layout()\n",
        "plt.show()\n"
      ],
      "metadata": {
        "colab": {
          "base_uri": "https://localhost:8080/",
          "height": 1000
        },
        "id": "88J5_8Tmc_PU",
        "outputId": "e24b4a58-1493-4b5e-e92f-4bb1dc44284f"
      },
      "execution_count": null,
      "outputs": [
        {
          "output_type": "stream",
          "name": "stdout",
          "text": [
            "Dataset Preview:\n",
            "                                    text   emotion\n",
            "0              I'm feeling great today!       joy\n",
            "1  This is so frustrating and annoying.     anger\n",
            "2                   I miss you so much.   sadness\n",
            "3          I’m scared about the future.      fear\n",
            "4            What a wonderful surprise!  surprise\n",
            "\n",
            "Dataset Shape: (10, 2)\n",
            "\n",
            "Data Types:\n",
            " text       object\n",
            "emotion    object\n",
            "dtype: object\n",
            "\n",
            "Missing Values:\n",
            " text       0\n",
            "emotion    0\n",
            "dtype: int64\n",
            "\n",
            "Emotion Distribution:\n",
            " emotion\n",
            "joy         2\n",
            "anger       2\n",
            "sadness     2\n",
            "fear        2\n",
            "surprise    2\n",
            "Name: count, dtype: int64\n"
          ]
        },
        {
          "output_type": "stream",
          "name": "stderr",
          "text": [
            "<ipython-input-6-260aa0b94f69>:39: FutureWarning: \n",
            "\n",
            "Passing `palette` without assigning `hue` is deprecated and will be removed in v0.14.0. Assign the `x` variable to `hue` and set `legend=False` for the same effect.\n",
            "\n",
            "  sns.countplot(data=df, x='emotion', palette='Set2')\n"
          ]
        },
        {
          "output_type": "display_data",
          "data": {
            "text/plain": [
              "<Figure size 800x500 with 1 Axes>"
            ],
            "image/png": "[encoded data removed]"
          },
          "metadata": {}
        }
      ]
    },
    {
      "cell_type": "markdown",
      "source": [
        " Check for Missing Values and Duplicates\n"
      ],
      "metadata": {
        "id": "BS_Px0dVdET7"
      }
    },
    {
      "cell_type": "code",
      "source": [
        "import pandas as pd\n",
        "\n",
        "# Sample data (no CSV)\n",
        "data = [\n",
        "    {\"text\": \"I'm feeling great today!\", \"emotion\": \"joy\"},\n",
        "    {\"text\": \"This is so frustrating and annoying.\", \"emotion\": \"anger\"},\n",
        "    {\"text\": \"I miss you so much.\", \"emotion\": \"sadness\"},\n",
        "    {\"text\": \"I’m scared about the future.\", \"emotion\": \"fear\"},\n",
        "    {\"text\": \"What a wonderful surprise!\", \"emotion\": \"surprise\"},\n",
        "    {\"text\": \"I’m so proud of myself!\", \"emotion\": \"joy\"},\n",
        "    {\"text\": \"Everything is going wrong!\", \"emotion\": \"anger\"},\n",
        "    {\"text\": \"I just want to cry.\", \"emotion\": \"sadness\"},\n",
        "    {\"text\": \"That really shocked me!\", \"emotion\": \"surprise\"},\n",
        "    {\"text\": \"I feel anxious and nervous.\", \"emotion\": \"fear\"}\n",
        "]\n",
        "\n",
        "# Create DataFrame\n",
        "df = pd.DataFrame(data)\n",
        "\n",
        "# Check for missing values\n",
        "print(\"Missing Values:\\n\", df.isnull().sum())\n",
        "\n",
        "# Check for duplicate rows\n",
        "print(\"\\nDuplicate rows:\", df.duplicated().sum())\n"
      ],
      "metadata": {
        "colab": {
          "base_uri": "https://localhost:8080/"
        },
        "id": "I1qQBIjHdI5g",
        "outputId": "c2cfe714-32a4-42b3-ad24-3b88363e15c2"
      },
      "execution_count": null,
      "outputs": [
        {
          "output_type": "stream",
          "name": "stdout",
          "text": [
            "Missing Values:\n",
            " text       0\n",
            "emotion    0\n",
            "dtype: int64\n",
            "\n",
            "Duplicate rows: 0\n"
          ]
        }
      ]
    },
    {
      "cell_type": "markdown",
      "source": [
        "Visualize a Few Features\n"
      ],
      "metadata": {
        "id": "goYPFhn6emFk"
      }
    },
    {
      "cell_type": "code",
      "source": [
        "import pandas as pd\n",
        "import seaborn as sns\n",
        "import matplotlib.pyplot as plt\n",
        "\n",
        "# Sample emotion-labeled social media data\n",
        "data = [\n",
        "    {\"text\": \"I'm feeling great today!\", \"emotion\": \"joy\"},\n",
        "    {\"text\": \"This is so frustrating and annoying.\", \"emotion\": \"anger\"},\n",
        "    {\"text\": \"I miss you so much.\", \"emotion\": \"sadness\"},\n",
        "    {\"text\": \"I’m scared about the future.\", \"emotion\": \"fear\"},\n",
        "    {\"text\": \"What a wonderful surprise!\", \"emotion\": \"surprise\"},\n",
        "    {\"text\": \"I’m so proud of myself!\", \"emotion\": \"joy\"},\n",
        "    {\"text\": \"Everything is going wrong!\", \"emotion\": \"anger\"},\n",
        "    {\"text\": \"I just want to cry.\", \"emotion\": \"sadness\"},\n",
        "    {\"text\": \"That really shocked me!\", \"emotion\": \"surprise\"},\n",
        "    {\"text\": \"I feel anxious and nervous.\", \"emotion\": \"fear\"}\n",
        "]\n",
        "\n",
        "# Create DataFrame\n",
        "df = pd.DataFrame(data)\n",
        "\n",
        "# Add a new column for text length\n",
        "df['text_length'] = df['text'].apply(len)\n",
        "\n",
        "# Distribution of emotions\n",
        "sns.countplot(x='emotion', data=df, palette='Set2')\n",
        "plt.title('Distribution of Emotions')\n",
        "plt.xlabel('Emotion')\n",
        "plt.ylabel('Count')\n",
        "plt.show()\n",
        "\n",
        "# Relationship between text length and emotion\n",
        "sns.boxplot(x='emotion', y='text_length', data=df, palette='Set3')\n",
        "plt.title('Text Length vs Emotion')\n",
        "plt.xlabel('Emotion')\n",
        "plt.ylabel('Text Length (characters)')\n",
        "plt.show()\n"
      ],
      "metadata": {
        "colab": {
          "base_uri": "https://localhost:8080/",
          "height": 1000
        },
        "id": "JIL251S9epdz",
        "outputId": "2c81c091-8708-455b-9680-cb7e4c6585b2"
      },
      "execution_count": null,
      "outputs": [
        {
          "output_type": "stream",
          "name": "stderr",
          "text": [
            "<ipython-input-8-856ffd8d26ea>:26: FutureWarning: \n",
            "\n",
            "Passing `palette` without assigning `hue` is deprecated and will be removed in v0.14.0. Assign the `x` variable to `hue` and set `legend=False` for the same effect.\n",
            "\n",
            "  sns.countplot(x='emotion', data=df, palette='Set2')\n"
          ]
        },
        {
          "output_type": "display_data",
          "data": {
            "text/plain": [
              "<Figure size 640x480 with 1 Axes>"
            ],
            "image/png": "[encoded data removed]"
          },
          "metadata": {}
        },
        {
          "output_type": "stream",
          "name": "stderr",
          "text": [
            "<ipython-input-8-856ffd8d26ea>:33: FutureWarning: \n",
            "\n",
            "Passing `palette` without assigning `hue` is deprecated and will be removed in v0.14.0. Assign the `x` variable to `hue` and set `legend=False` for the same effect.\n",
            "\n",
            "  sns.boxplot(x='emotion', y='text_length', data=df, palette='Set3')\n"
          ]
        },
        {
          "output_type": "display_data",
          "data": {
            "text/plain": [
              "<Figure size 640x480 with 1 Axes>"
            ],
            "image/png": "[encoded data removed]"
          },
          "metadata": {}
        }
      ]
    },
    {
      "cell_type": "markdown",
      "source": [
        "Identify Target and Features\n"
      ],
      "metadata": {
        "id": "InCwSWMhfHTe"
      }
    },
    {
      "cell_type": "code",
      "source": [
        "import pandas as pd\n",
        "\n",
        "# Sample dataset for sentiment/emotion analysis\n",
        "data = [\n",
        "    {\"text\": \"I'm feeling great today!\", \"emotion\": \"joy\"},\n",
        "    {\"text\": \"This is so frustrating and annoying.\", \"emotion\": \"anger\"},\n",
        "    {\"text\": \"I miss you so much.\", \"emotion\": \"sadness\"},\n",
        "    {\"text\": \"I’m scared about the future.\", \"emotion\": \"fear\"},\n",
        "    {\"text\": \"What a wonderful surprise!\", \"emotion\": \"surprise\"},\n",
        "    {\"text\": \"I’m so proud of myself!\", \"emotion\": \"joy\"},\n",
        "    {\"text\": \"Everything is going wrong!\", \"emotion\": \"anger\"},\n",
        "    {\"text\": \"I just want to cry.\", \"emotion\": \"sadness\"},\n",
        "    {\"text\": \"That really shocked me!\", \"emotion\": \"surprise\"},\n",
        "    {\"text\": \"I feel anxious and nervous.\", \"emotion\": \"fear\"}\n",
        "]\n",
        "\n",
        "# Create DataFrame\n",
        "df = pd.DataFrame(data)\n",
        "\n",
        "# Identify features and target\n",
        "X = df['text']        # Features (input)\n",
        "y = df['emotion']     # Target (output label)\n",
        "\n",
        "# Print the results\n",
        "print(\"Features (X):\")\n",
        "print(X.head())\n",
        "\n",
        "print(\"\\nTarget (y):\")\n",
        "print(y.head())\n"
      ],
      "metadata": {
        "colab": {
          "base_uri": "https://localhost:8080/"
        },
        "id": "KsQ6rNS1f5Al",
        "outputId": "c80a6ceb-b56c-4053-d741-9356e20a2666"
      },
      "execution_count": null,
      "outputs": [
        {
          "output_type": "stream",
          "name": "stdout",
          "text": [
            "Features (X):\n",
            "0                I'm feeling great today!\n",
            "1    This is so frustrating and annoying.\n",
            "2                     I miss you so much.\n",
            "3            I’m scared about the future.\n",
            "4              What a wonderful surprise!\n",
            "Name: text, dtype: object\n",
            "\n",
            "Target (y):\n",
            "0         joy\n",
            "1       anger\n",
            "2     sadness\n",
            "3        fear\n",
            "4    surprise\n",
            "Name: emotion, dtype: object\n"
          ]
        }
      ]
    },
    {
      "cell_type": "markdown",
      "source": [
        " Convert Categorical Columns to Numerical\n"
      ],
      "metadata": {
        "id": "de-Xto4RgQZj"
      }
    },
    {
      "cell_type": "code",
      "source": [
        "import pandas as pd\n",
        "\n",
        "# Sample dataset\n",
        "data = [\n",
        "    {\"text\": \"I'm feeling great today!\", \"emotion\": \"joy\"},\n",
        "    {\"text\": \"This is so frustrating and annoying.\", \"emotion\": \"anger\"},\n",
        "    {\"text\": \"I miss you so much.\", \"emotion\": \"sadness\"},\n",
        "    {\"text\": \"I’m scared about the future.\", \"emotion\": \"fear\"},\n",
        "    {\"text\": \"What a wonderful surprise!\", \"emotion\": \"surprise\"},\n",
        "    {\"text\": \"I’m so proud of myself!\", \"emotion\": \"joy\"},\n",
        "    {\"text\": \"Everything is going wrong!\", \"emotion\": \"anger\"},\n",
        "    {\"text\": \"I just want to cry.\", \"emotion\": \"sadness\"},\n",
        "    {\"text\": \"That really shocked me!\", \"emotion\": \"surprise\"},\n",
        "    {\"text\": \"I feel anxious and nervous.\", \"emotion\": \"fear\"}\n",
        "]\n",
        "\n",
        "# Create DataFrame\n",
        "df = pd.DataFrame(data)\n",
        "\n",
        "# Convert 'emotion' (categorical) to numerical using Label Encoding\n",
        "from sklearn.preprocessing import LabelEncoder\n",
        "\n",
        "label_encoder = LabelEncoder()\n",
        "df['emotion_encoded'] = label_encoder.fit_transform(df['emotion'])\n",
        "\n",
        "# Display the updated DataFrame\n",
        "print(df[['text', 'emotion', 'emotion_encoded']])\n"
      ],
      "metadata": {
        "colab": {
          "base_uri": "https://localhost:8080/"
        },
        "id": "WjB1r8n_gUHS",
        "outputId": "77feccdb-7ab5-4cdf-c323-c3d71bf1e101"
      },
      "execution_count": null,
      "outputs": [
        {
          "output_type": "stream",
          "name": "stdout",
          "text": [
            "                                   text   emotion  emotion_encoded\n",
            "0              I'm feeling great today!       joy                2\n",
            "1  This is so frustrating and annoying.     anger                0\n",
            "2                   I miss you so much.   sadness                3\n",
            "3          I’m scared about the future.      fear                1\n",
            "4            What a wonderful surprise!  surprise                4\n",
            "5               I’m so proud of myself!       joy                2\n",
            "6            Everything is going wrong!     anger                0\n",
            "7                   I just want to cry.   sadness                3\n",
            "8               That really shocked me!  surprise                4\n",
            "9           I feel anxious and nervous.      fear                1\n"
          ]
        }
      ]
    },
    {
      "cell_type": "markdown",
      "source": [
        " One-Hot Encoding\n"
      ],
      "metadata": {
        "id": "UKGg64MUgu4C"
      }
    },
    {
      "cell_type": "code",
      "source": [
        "import pandas as pd\n",
        "\n",
        "# Sample dataset\n",
        "data = [\n",
        "    {\"text\": \"I'm feeling great today!\", \"emotion\": \"joy\"},\n",
        "    {\"text\": \"This is so frustrating and annoying.\", \"emotion\": \"anger\"},\n",
        "    {\"text\": \"I miss you so much.\", \"emotion\": \"sadness\"},\n",
        "    {\"text\": \"I’m scared about the future.\", \"emotion\": \"fear\"},\n",
        "    {\"text\": \"What a wonderful surprise!\", \"emotion\": \"surprise\"},\n",
        "    {\"text\": \"I’m so proud of myself!\", \"emotion\": \"joy\"},\n",
        "    {\"text\": \"Everything is going wrong!\", \"emotion\": \"anger\"},\n",
        "    {\"text\": \"I just want to cry.\", \"emotion\": \"sadness\"},\n",
        "    {\"text\": \"That really shocked me!\", \"emotion\": \"surprise\"},\n",
        "    {\"text\": \"I feel anxious and nervous.\", \"emotion\": \"fear\"}\n",
        "]\n",
        "\n",
        "# Create DataFrame\n",
        "df = pd.DataFrame(data)\n",
        "\n",
        "# One-Hot Encode the 'emotion' column\n",
        "emotion_one_hot = pd.get_dummies(df['emotion'])\n",
        "\n",
        "# Concatenate the original dataframe with the new one-hot encoded columns\n",
        "df_encoded = pd.concat([df, emotion_one_hot], axis=1)\n",
        "\n",
        "# Display the resulting DataFrame\n",
        "print(df_encoded)\n"
      ],
      "metadata": {
        "colab": {
          "base_uri": "https://localhost:8080/"
        },
        "id": "sujP4500gz1R",
        "outputId": "5e1e46c3-a05a-4fd2-c2a3-52b8776151e3"
      },
      "execution_count": null,
      "outputs": [
        {
          "output_type": "stream",
          "name": "stdout",
          "text": [
            "                                   text   emotion  anger   fear    joy  \\\n",
            "0              I'm feeling great today!       joy  False  False   True   \n",
            "1  This is so frustrating and annoying.     anger   True  False  False   \n",
            "2                   I miss you so much.   sadness  False  False  False   \n",
            "3          I’m scared about the future.      fear  False   True  False   \n",
            "4            What a wonderful surprise!  surprise  False  False  False   \n",
            "5               I’m so proud of myself!       joy  False  False   True   \n",
            "6            Everything is going wrong!     anger   True  False  False   \n",
            "7                   I just want to cry.   sadness  False  False  False   \n",
            "8               That really shocked me!  surprise  False  False  False   \n",
            "9           I feel anxious and nervous.      fear  False   True  False   \n",
            "\n",
            "   sadness  surprise  \n",
            "0    False     False  \n",
            "1    False     False  \n",
            "2     True     False  \n",
            "3    False     False  \n",
            "4    False      True  \n",
            "5    False     False  \n",
            "6    False     False  \n",
            "7     True     False  \n",
            "8    False      True  \n",
            "9    False     False  \n"
          ]
        }
      ]
    },
    {
      "cell_type": "markdown",
      "source": [
        " Feature Scaling\n"
      ],
      "metadata": {
        "id": "r9r4fCodhIir"
      }
    },
    {
      "cell_type": "code",
      "source": [
        "import pandas as pd\n",
        "from sklearn.preprocessing import StandardScaler\n",
        "\n",
        "# Sample dataset with emotion and text length\n",
        "data = [\n",
        "    {\"text\": \"I'm feeling great today!\", \"emotion\": \"joy\"},\n",
        "    {\"text\": \"This is so frustrating and annoying.\", \"emotion\": \"anger\"},\n",
        "    {\"text\": \"I miss you so much.\", \"emotion\": \"sadness\"},\n",
        "    {\"text\": \"I’m scared about the future.\", \"emotion\": \"fear\"},\n",
        "    {\"text\": \"What a wonderful surprise!\", \"emotion\": \"surprise\"},\n",
        "    {\"text\": \"I’m so proud of myself!\", \"emotion\": \"joy\"},\n",
        "    {\"text\": \"Everything is going wrong!\", \"emotion\": \"anger\"},\n",
        "    {\"text\": \"I just want to cry.\", \"emotion\": \"sadness\"},\n",
        "    {\"text\": \"That really shocked me!\", \"emotion\": \"surprise\"},\n",
        "    {\"text\": \"I feel anxious and nervous.\", \"emotion\": \"fear\"}\n",
        "]\n",
        "\n",
        "# Create DataFrame\n",
        "df = pd.DataFrame(data)\n",
        "\n",
        "# Add a new column for text length\n",
        "df['text_length'] = df['text'].apply(len)\n",
        "\n",
        "# Initialize StandardScaler\n",
        "scaler = StandardScaler()\n",
        "\n",
        "# Scale the 'text_length' feature (numerical)\n",
        "df['scaled_text_length'] = scaler.fit_transform(df[['text_length']])\n",
        "\n",
        "# Display the resulting DataFrame with scaled text length\n",
        "print(df[['text', 'emotion', 'text_length', 'scaled_text_length']])\n"
      ],
      "metadata": {
        "colab": {
          "base_uri": "https://localhost:8080/"
        },
        "id": "Qirm5dYRhfGr",
        "outputId": "87bd0096-3d3c-45d5-870c-8ca3611f9d1d"
      },
      "execution_count": null,
      "outputs": [
        {
          "output_type": "stream",
          "name": "stdout",
          "text": [
            "                                   text   emotion  text_length  \\\n",
            "0              I'm feeling great today!       joy           24   \n",
            "1  This is so frustrating and annoying.     anger           36   \n",
            "2                   I miss you so much.   sadness           19   \n",
            "3          I’m scared about the future.      fear           28   \n",
            "4            What a wonderful surprise!  surprise           26   \n",
            "5               I’m so proud of myself!       joy           23   \n",
            "6            Everything is going wrong!     anger           26   \n",
            "7                   I just want to cry.   sadness           19   \n",
            "8               That really shocked me!  surprise           23   \n",
            "9           I feel anxious and nervous.      fear           27   \n",
            "\n",
            "   scaled_text_length  \n",
            "0           -0.236191  \n",
            "1            2.340436  \n",
            "2           -1.309785  \n",
            "3            0.622685  \n",
            "4            0.193247  \n",
            "5           -0.450910  \n",
            "6            0.193247  \n",
            "7           -1.309785  \n",
            "8           -0.450910  \n",
            "9            0.407966  \n"
          ]
        }
      ]
    },
    {
      "cell_type": "markdown",
      "source": [
        " Train-Test Split"
      ],
      "metadata": {
        "id": "Zc0ZEWPyhg_p"
      }
    },
    {
      "cell_type": "code",
      "source": [
        "import pandas as pd\n",
        "from sklearn.model_selection import train_test_split\n",
        "\n",
        "# Sample dataset\n",
        "data = [\n",
        "    {\"text\": \"I'm feeling great today!\", \"emotion\": \"joy\"},\n",
        "    {\"text\": \"This is so frustrating and annoying.\", \"emotion\": \"anger\"},\n",
        "    {\"text\": \"I miss you so much.\", \"emotion\": \"sadness\"},\n",
        "    {\"text\": \"I’m scared about the future.\", \"emotion\": \"fear\"},\n",
        "    {\"text\": \"What a wonderful surprise!\", \"emotion\": \"surprise\"},\n",
        "    {\"text\": \"I’m so proud of myself!\", \"emotion\": \"joy\"},\n",
        "    {\"text\": \"Everything is going wrong!\", \"emotion\": \"anger\"},\n",
        "    {\"text\": \"I just want to cry.\", \"emotion\": \"sadness\"},\n",
        "    {\"text\": \"That really shocked me!\", \"emotion\": \"surprise\"},\n",
        "    {\"text\": \"I feel anxious and nervous.\", \"emotion\": \"fear\"}\n",
        "]\n",
        "\n",
        "# Create DataFrame\n",
        "df = pd.DataFrame(data)\n",
        "\n",
        "# Features and Target\n",
        "X = df['text']        # Features (input)\n",
        "y = df['emotion']     # Target (output label)\n",
        "\n",
        "# Split the dataset into training and testing sets (80% train, 20% test)\n",
        "X_train, X_test, y_train, y_test = train_test_split(X, y, test_size=0.2, random_state=42)\n",
        "\n",
        "# Display the results\n",
        "print(\"Training Features (X_train):\")\n",
        "print(X_train)\n",
        "print(\"\\nTest Features (X_test):\")\n",
        "print(X_test)\n",
        "print(\"\\nTraining Target (y_train):\")\n",
        "print(y_train)\n",
        "print(\"\\nTest Target (y_test):\")\n",
        "print(y_test)\n"
      ],
      "metadata": {
        "colab": {
          "base_uri": "https://localhost:8080/"
        },
        "id": "2Yaj0EMShlKe",
        "outputId": "d9923440-bbd4-4c98-dddd-370154c64491"
      },
      "execution_count": null,
      "outputs": [
        {
          "output_type": "stream",
          "name": "stdout",
          "text": [
            "Training Features (X_train):\n",
            "5         I’m so proud of myself!\n",
            "0        I'm feeling great today!\n",
            "7             I just want to cry.\n",
            "2             I miss you so much.\n",
            "9     I feel anxious and nervous.\n",
            "4      What a wonderful surprise!\n",
            "3    I’m scared about the future.\n",
            "6      Everything is going wrong!\n",
            "Name: text, dtype: object\n",
            "\n",
            "Test Features (X_test):\n",
            "8                 That really shocked me!\n",
            "1    This is so frustrating and annoying.\n",
            "Name: text, dtype: object\n",
            "\n",
            "Training Target (y_train):\n",
            "5         joy\n",
            "0         joy\n",
            "7     sadness\n",
            "2     sadness\n",
            "9        fear\n",
            "4    surprise\n",
            "3        fear\n",
            "6       anger\n",
            "Name: emotion, dtype: object\n",
            "\n",
            "Test Target (y_test):\n",
            "8    surprise\n",
            "1       anger\n",
            "Name: emotion, dtype: object\n"
          ]
        }
      ]
    },
    {
      "cell_type": "markdown",
      "source": [
        " Model Building\n"
      ],
      "metadata": {
        "id": "Igr0Z_CsiZBr"
      }
    },
    {
      "cell_type": "code",
      "source": [
        "import pandas as pd\n",
        "from sklearn.model_selection import train_test_split\n",
        "from sklearn.feature_extraction.text import TfidfVectorizer\n",
        "from sklearn.linear_model import LogisticRegression\n",
        "from sklearn.metrics import accuracy_score, classification_report\n",
        "\n",
        "# Sample dataset\n",
        "data = [\n",
        "    {\"text\": \"I'm feeling great today!\", \"emotion\": \"joy\"},\n",
        "    {\"text\": \"This is so frustrating and annoying.\", \"emotion\": \"anger\"},\n",
        "    {\"text\": \"I miss you so much.\", \"emotion\": \"sadness\"},\n",
        "    {\"text\": \"I’m scared about the future.\", \"emotion\": \"fear\"},\n",
        "    {\"text\": \"What a wonderful surprise!\", \"emotion\": \"surprise\"},\n",
        "    {\"text\": \"I’m so proud of myself!\", \"emotion\": \"joy\"},\n",
        "    {\"text\": \"Everything is going wrong!\", \"emotion\": \"anger\"},\n",
        "    {\"text\": \"I just want to cry.\", \"emotion\": \"sadness\"},\n",
        "    {\"text\": \"That really shocked me!\", \"emotion\": \"surprise\"},\n",
        "    {\"text\": \"I feel anxious and nervous.\", \"emotion\": \"fear\"}\n",
        "]\n",
        "\n",
        "# Create DataFrame\n",
        "df = pd.DataFrame(data)\n",
        "\n",
        "# Features and Target\n",
        "X = df['text']        # Features (input)\n",
        "y = df['emotion']     # Target (output label)\n",
        "\n",
        "# Split the dataset into training and testing sets (80% train, 20% test)\n",
        "X_train, X_test, y_train, y_test = train_test_split(X, y, test_size=0.2, random_state=42)\n",
        "\n",
        "# Vectorize the text data using TF-IDF\n",
        "vectorizer = TfidfVectorizer(stop_words='english', max_features=500)\n",
        "X_train_tfidf = vectorizer.fit_transform(X_train)\n",
        "X_test_tfidf = vectorizer.transform(X_test)\n",
        "\n",
        "# Initialize the Logistic Regression model\n",
        "model = LogisticRegression()\n",
        "\n",
        "# Train the model\n",
        "model.fit(X_train_tfidf, y_train)\n",
        "\n",
        "# Make predictions\n",
        "y_pred = model.predict(X_test_tfidf)\n",
        "\n",
        "# Evaluate the model\n",
        "accuracy = accuracy_score(y_test, y_pred)\n",
        "print(f\"Accuracy: {accuracy * 100:.2f}%\")\n",
        "\n",
        "# Detailed classification report\n",
        "print(\"\\nClassification Report:\")\n",
        "print(classification_report(y_test, y_pred))\n"
      ],
      "metadata": {
        "colab": {
          "base_uri": "https://localhost:8080/"
        },
        "id": "gWHQE8X8icEx",
        "outputId": "6d2d30cd-594e-497b-e1dc-5ec083dd9e52"
      },
      "execution_count": null,
      "outputs": [
        {
          "output_type": "stream",
          "name": "stdout",
          "text": [
            "Accuracy: 0.00%\n",
            "\n",
            "Classification Report:\n",
            "              precision    recall  f1-score   support\n",
            "\n",
            "       anger       0.00      0.00      0.00       1.0\n",
            "     sadness       0.00      0.00      0.00       0.0\n",
            "    surprise       0.00      0.00      0.00       1.0\n",
            "\n",
            "    accuracy                           0.00       2.0\n",
            "   macro avg       0.00      0.00      0.00       2.0\n",
            "weighted avg       0.00      0.00      0.00       2.0\n",
            "\n"
          ]
        },
        {
          "output_type": "stream",
          "name": "stderr",
          "text": [
            "/usr/local/lib/python3.11/dist-packages/sklearn/metrics/_classification.py:1565: UndefinedMetricWarning: Precision is ill-defined and being set to 0.0 in labels with no predicted samples. Use `zero_division` parameter to control this behavior.\n",
            "  _warn_prf(average, modifier, f\"{metric.capitalize()} is\", len(result))\n",
            "/usr/local/lib/python3.11/dist-packages/sklearn/metrics/_classification.py:1565: UndefinedMetricWarning: Recall is ill-defined and being set to 0.0 in labels with no true samples. Use `zero_division` parameter to control this behavior.\n",
            "  _warn_prf(average, modifier, f\"{metric.capitalize()} is\", len(result))\n",
            "/usr/local/lib/python3.11/dist-packages/sklearn/metrics/_classification.py:1565: UndefinedMetricWarning: Precision is ill-defined and being set to 0.0 in labels with no predicted samples. Use `zero_division` parameter to control this behavior.\n",
            "  _warn_prf(average, modifier, f\"{metric.capitalize()} is\", len(result))\n",
            "/usr/local/lib/python3.11/dist-packages/sklearn/metrics/_classification.py:1565: UndefinedMetricWarning: Recall is ill-defined and being set to 0.0 in labels with no true samples. Use `zero_division` parameter to control this behavior.\n",
            "  _warn_prf(average, modifier, f\"{metric.capitalize()} is\", len(result))\n",
            "/usr/local/lib/python3.11/dist-packages/sklearn/metrics/_classification.py:1565: UndefinedMetricWarning: Precision is ill-defined and being set to 0.0 in labels with no predicted samples. Use `zero_division` parameter to control this behavior.\n",
            "  _warn_prf(average, modifier, f\"{metric.capitalize()} is\", len(result))\n",
            "/usr/local/lib/python3.11/dist-packages/sklearn/metrics/_classification.py:1565: UndefinedMetricWarning: Recall is ill-defined and being set to 0.0 in labels with no true samples. Use `zero_division` parameter to control this behavior.\n",
            "  _warn_prf(average, modifier, f\"{metric.capitalize()} is\", len(result))\n"
          ]
        }
      ]
    },
    {
      "cell_type": "markdown",
      "source": [
        " Evaluation"
      ],
      "metadata": {
        "id": "_qAwzu9Aiqpd"
      }
    },
    {
      "cell_type": "code",
      "source": [
        "import pandas as pd\n",
        "from sklearn.model_selection import train_test_split\n",
        "from sklearn.feature_extraction.text import TfidfVectorizer\n",
        "from sklearn.linear_model import LogisticRegression\n",
        "from sklearn.metrics import accuracy_score, classification_report, confusion_matrix\n",
        "import seaborn as sns\n",
        "import matplotlib.pyplot as plt\n",
        "\n",
        "# Sample dataset\n",
        "data = [\n",
        "    {\"text\": \"I'm feeling great today!\", \"emotion\": \"joy\"},\n",
        "    {\"text\": \"This is so frustrating and annoying.\", \"emotion\": \"anger\"},\n",
        "    {\"text\": \"I miss you so much.\", \"emotion\": \"sadness\"},\n",
        "    {\"text\": \"I’m scared about the future.\", \"emotion\": \"fear\"},\n",
        "    {\"text\": \"What a wonderful surprise!\", \"emotion\": \"surprise\"},\n",
        "    {\"text\": \"I’m so proud of myself!\", \"emotion\": \"joy\"},\n",
        "    {\"text\": \"Everything is going wrong!\", \"emotion\": \"anger\"},\n",
        "    {\"text\": \"I just want to cry.\", \"emotion\": \"sadness\"},\n",
        "    {\"text\": \"That really shocked me!\", \"emotion\": \"surprise\"},\n",
        "    {\"text\": \"I feel anxious and nervous.\", \"emotion\": \"fear\"}\n",
        "]\n",
        "\n",
        "# Create DataFrame\n",
        "df = pd.DataFrame(data)\n",
        "\n",
        "# Features and Target\n",
        "X = df['text']        # Features (input)\n",
        "y = df['emotion']     # Target (output label)\n",
        "\n",
        "# Split the dataset into training and testing sets (80% train, 20% test)\n",
        "X_train, X_test, y_train, y_test = train_test_split(X, y, test_size=0.2, random_state=42)\n",
        "\n",
        "# Vectorize the text data using TF-IDF\n",
        "vectorizer = TfidfVectorizer(stop_words='english', max_features=500)\n",
        "X_train_tfidf = vectorizer.fit_transform(X_train)\n",
        "X_test_tfidf = vectorizer.transform(X_test)\n",
        "\n",
        "# Initialize the Logistic Regression model\n",
        "model = LogisticRegression(max_iter=200)\n",
        "\n",
        "# Train the model\n",
        "model.fit(X_train_tfidf, y_train)\n",
        "\n",
        "# Make predictions\n",
        "y_pred = model.predict(X_test_tfidf)\n",
        "\n",
        "# Evaluate the model\n",
        "\n",
        "# Accuracy\n",
        "accuracy = accuracy_score(y_test, y_pred)\n",
        "print(f\"Accuracy: {accuracy * 100:.2f}%\")\n",
        "\n",
        "# Detailed classification report (Precision, Recall, F1-Score)\n",
        "print(\"\\nClassification Report:\")\n",
        "print(classification_report(y_test, y_pred))\n",
        "\n",
        "# Confusion Matrix\n",
        "cm = confusion_matrix(y_test, y_pred, labels=model.classes_)\n",
        "\n",
        "# Display Confusion Matrix using Seaborn heatmap\n",
        "plt.figure(figsize=(8, 6))\n",
        "sns.heatmap(cm, annot=True, fmt='d', cmap='Blues', xticklabels=model.classes_, yticklabels=model.classes_)\n",
        "plt.title('Confusion Matrix')\n",
        "plt.xlabel('Predicted Label')\n",
        "plt.ylabel('True Label')\n",
        "plt.show()\n"
      ],
      "metadata": {
        "colab": {
          "base_uri": "https://localhost:8080/",
          "height": 1000
        },
        "id": "DJCoi6UzkS0T",
        "outputId": "59e8ebb9-faff-4866-ad69-dce91eb0e96e"
      },
      "execution_count": null,
      "outputs": [
        {
          "output_type": "stream",
          "name": "stdout",
          "text": [
            "Accuracy: 0.00%\n",
            "\n",
            "Classification Report:\n",
            "              precision    recall  f1-score   support\n",
            "\n",
            "       anger       0.00      0.00      0.00       1.0\n",
            "     sadness       0.00      0.00      0.00       0.0\n",
            "    surprise       0.00      0.00      0.00       1.0\n",
            "\n",
            "    accuracy                           0.00       2.0\n",
            "   macro avg       0.00      0.00      0.00       2.0\n",
            "weighted avg       0.00      0.00      0.00       2.0\n",
            "\n"
          ]
        },
        {
          "output_type": "stream",
          "name": "stderr",
          "text": [
            "/usr/local/lib/python3.11/dist-packages/sklearn/metrics/_classification.py:1565: UndefinedMetricWarning: Precision is ill-defined and being set to 0.0 in labels with no predicted samples. Use `zero_division` parameter to control this behavior.\n",
            "  _warn_prf(average, modifier, f\"{metric.capitalize()} is\", len(result))\n",
            "/usr/local/lib/python3.11/dist-packages/sklearn/metrics/_classification.py:1565: UndefinedMetricWarning: Recall is ill-defined and being set to 0.0 in labels with no true samples. Use `zero_division` parameter to control this behavior.\n",
            "  _warn_prf(average, modifier, f\"{metric.capitalize()} is\", len(result))\n",
            "/usr/local/lib/python3.11/dist-packages/sklearn/metrics/_classification.py:1565: UndefinedMetricWarning: Precision is ill-defined and being set to 0.0 in labels with no predicted samples. Use `zero_division` parameter to control this behavior.\n",
            "  _warn_prf(average, modifier, f\"{metric.capitalize()} is\", len(result))\n",
            "/usr/local/lib/python3.11/dist-packages/sklearn/metrics/_classification.py:1565: UndefinedMetricWarning: Recall is ill-defined and being set to 0.0 in labels with no true samples. Use `zero_division` parameter to control this behavior.\n",
            "  _warn_prf(average, modifier, f\"{metric.capitalize()} is\", len(result))\n",
            "/usr/local/lib/python3.11/dist-packages/sklearn/metrics/_classification.py:1565: UndefinedMetricWarning: Precision is ill-defined and being set to 0.0 in labels with no predicted samples. Use `zero_division` parameter to control this behavior.\n",
            "  _warn_prf(average, modifier, f\"{metric.capitalize()} is\", len(result))\n",
            "/usr/local/lib/python3.11/dist-packages/sklearn/metrics/_classification.py:1565: UndefinedMetricWarning: Recall is ill-defined and being set to 0.0 in labels with no true samples. Use `zero_division` parameter to control this behavior.\n",
            "  _warn_prf(average, modifier, f\"{metric.capitalize()} is\", len(result))\n"
          ]
        },
        {
          "output_type": "display_data",
          "data": {
            "text/plain": [
              "<Figure size 800x600 with 2 Axes>"
            ],
            "image/png": "[encoded data removed]"
          },
          "metadata": {}
        }
      ]
    },
    {
      "cell_type": "markdown",
      "source": [
        "Make Predictions from New Input\n"
      ],
      "metadata": {
        "id": "PIvu6F1AkVbU"
      }
    },
    {
      "cell_type": "code",
      "source": [
        "import pandas as pd\n",
        "from sklearn.model_selection import train_test_split\n",
        "from sklearn.feature_extraction.text import TfidfVectorizer\n",
        "from sklearn.linear_model import LogisticRegression\n",
        "from sklearn.metrics import accuracy_score, classification_report, confusion_matrix\n",
        "import seaborn as sns\n",
        "import matplotlib.pyplot as plt\n",
        "\n",
        "# Sample dataset\n",
        "data = [\n",
        "    {\"text\": \"I'm feeling great today!\", \"emotion\": \"joy\"},\n",
        "    {\"text\": \"This is so frustrating and annoying.\", \"emotion\": \"anger\"},\n",
        "    {\"text\": \"I miss you so much.\", \"emotion\": \"sadness\"},\n",
        "    {\"text\": \"I’m scared about the future.\", \"emotion\": \"fear\"},\n",
        "    {\"text\": \"What a wonderful surprise!\", \"emotion\": \"surprise\"},\n",
        "    {\"text\": \"I’m so proud of myself!\", \"emotion\": \"joy\"},\n",
        "    {\"text\": \"Everything is going wrong!\", \"emotion\": \"anger\"},\n",
        "    {\"text\": \"I just want to cry.\", \"emotion\": \"sadness\"},\n",
        "    {\"text\": \"That really shocked me!\", \"emotion\": \"surprise\"},\n",
        "    {\"text\": \"I feel anxious and nervous.\", \"emotion\": \"fear\"}\n",
        "]\n",
        "\n",
        "# Create DataFrame\n",
        "df = pd.DataFrame(data)\n",
        "\n",
        "# Features and Target\n",
        "X = df['text']        # Features (input)\n",
        "y = df['emotion']     # Target (output label)\n",
        "\n",
        "# Split the dataset into training and testing sets (80% train, 20% test)\n",
        "X_train, X_test, y_train, y_test = train_test_split(X, y, test_size=0.2, random_state=42)\n",
        "\n",
        "# Vectorize the text data using TF-IDF\n",
        "vectorizer = TfidfVectorizer(stop_words='english', max_features=500)\n",
        "X_train_tfidf = vectorizer.fit_transform(X_train)\n",
        "X_test_tfidf = vectorizer.transform(X_test)\n",
        "\n",
        "# Initialize the Logistic Regression model\n",
        "model = LogisticRegression(max_iter=200)\n",
        "\n",
        "# Train the model\n",
        "model.fit(X_train_tfidf, y_train)\n",
        "\n",
        "# Make predictions\n",
        "y_pred = model.predict(X_test_tfidf)\n",
        "\n",
        "# Evaluate the model\n",
        "accuracy = accuracy_score(y_test, y_pred)\n",
        "print(f\"Accuracy: {accuracy * 100:.2f}%\")\n",
        "print(\"\\nClassification Report:\")\n",
        "print(classification_report(y_test, y_pred))\n",
        "\n",
        "# Confusion Matrix using Seaborn heatmap\n",
        "cm = confusion_matrix(y_test, y_pred, labels=model.classes_)\n",
        "plt.figure(figsize=(8, 6))\n",
        "sns.heatmap(cm, annot=True, fmt='d', cmap='Blues', xticklabels=model.classes_, yticklabels=model.classes_)\n",
        "plt.title('Confusion Matrix')\n",
        "plt.xlabel('Predicted Label')\n",
        "plt.ylabel('True Label')\n",
        "plt.show()\n",
        "\n",
        "# -----------------------------------------------\n",
        "# Making Predictions on New Input Text\n",
        "# -----------------------------------------------\n",
        "\n",
        "# Example of new input texts\n",
        "new_texts = [\n",
        "    \"I’m feeling so happy right now!\",\n",
        "    \"I can’t handle this anymore, I’m so angry!\",\n",
        "    \"I miss my friends so much.\",\n",
        "    \"I feel very nervous about the upcoming event.\",\n",
        "    \"This is such a wonderful experience!\"\n",
        "]\n",
        "\n",
        "# Preprocess the new input texts\n",
        "new_texts_tfidf = vectorizer.transform(new_texts)\n",
        "\n",
        "# Make predictions on new input texts\n",
        "predictions = model.predict(new_texts_tfidf)\n",
        "\n",
        "# Print out the predictions for the new texts\n",
        "for text, emotion in zip(new_texts, predictions):\n",
        "    print(f\"Text: {text}\\nPredicted Emotion: {emotion}\\n\")\n"
      ],
      "metadata": {
        "colab": {
          "base_uri": "https://localhost:8080/",
          "height": 1000
        },
        "id": "rUdPpM55kaFe",
        "outputId": "c3a53578-4446-4754-d39a-0365f524f2ab"
      },
      "execution_count": null,
      "outputs": [
        {
          "output_type": "stream",
          "name": "stdout",
          "text": [
            "Accuracy: 0.00%\n",
            "\n",
            "Classification Report:\n",
            "              precision    recall  f1-score   support\n",
            "\n",
            "       anger       0.00      0.00      0.00       1.0\n",
            "     sadness       0.00      0.00      0.00       0.0\n",
            "    surprise       0.00      0.00      0.00       1.0\n",
            "\n",
            "    accuracy                           0.00       2.0\n",
            "   macro avg       0.00      0.00      0.00       2.0\n",
            "weighted avg       0.00      0.00      0.00       2.0\n",
            "\n"
          ]
        },
        {
          "output_type": "stream",
          "name": "stderr",
          "text": [
            "/usr/local/lib/python3.11/dist-packages/sklearn/metrics/_classification.py:1565: UndefinedMetricWarning: Precision is ill-defined and being set to 0.0 in labels with no predicted samples. Use `zero_division` parameter to control this behavior.\n",
            "  _warn_prf(average, modifier, f\"{metric.capitalize()} is\", len(result))\n",
            "/usr/local/lib/python3.11/dist-packages/sklearn/metrics/_classification.py:1565: UndefinedMetricWarning: Recall is ill-defined and being set to 0.0 in labels with no true samples. Use `zero_division` parameter to control this behavior.\n",
            "  _warn_prf(average, modifier, f\"{metric.capitalize()} is\", len(result))\n",
            "/usr/local/lib/python3.11/dist-packages/sklearn/metrics/_classification.py:1565: UndefinedMetricWarning: Precision is ill-defined and being set to 0.0 in labels with no predicted samples. Use `zero_division` parameter to control this behavior.\n",
            "  _warn_prf(average, modifier, f\"{metric.capitalize()} is\", len(result))\n",
            "/usr/local/lib/python3.11/dist-packages/sklearn/metrics/_classification.py:1565: UndefinedMetricWarning: Recall is ill-defined and being set to 0.0 in labels with no true samples. Use `zero_division` parameter to control this behavior.\n",
            "  _warn_prf(average, modifier, f\"{metric.capitalize()} is\", len(result))\n",
            "/usr/local/lib/python3.11/dist-packages/sklearn/metrics/_classification.py:1565: UndefinedMetricWarning: Precision is ill-defined and being set to 0.0 in labels with no predicted samples. Use `zero_division` parameter to control this behavior.\n",
            "  _warn_prf(average, modifier, f\"{metric.capitalize()} is\", len(result))\n",
            "/usr/local/lib/python3.11/dist-packages/sklearn/metrics/_classification.py:1565: UndefinedMetricWarning: Recall is ill-defined and being set to 0.0 in labels with no true samples. Use `zero_division` parameter to control this behavior.\n",
            "  _warn_prf(average, modifier, f\"{metric.capitalize()} is\", len(result))\n"
          ]
        },
        {
          "output_type": "display_data",
          "data": {
            "text/plain": [
              "<Figure size 800x600 with 2 Axes>"
            ],
            "image/png": "[encoded data removed]"
          },
          "metadata": {}
        },
        {
          "output_type": "stream",
          "name": "stdout",
          "text": [
            "Text: I’m feeling so happy right now!\n",
            "Predicted Emotion: joy\n",
            "\n",
            "Text: I can’t handle this anymore, I’m so angry!\n",
            "Predicted Emotion: sadness\n",
            "\n",
            "Text: I miss my friends so much.\n",
            "Predicted Emotion: sadness\n",
            "\n",
            "Text: I feel very nervous about the upcoming event.\n",
            "Predicted Emotion: fear\n",
            "\n",
            "Text: This is such a wonderful experience!\n",
            "Predicted Emotion: sadness\n",
            "\n"
          ]
        }
      ]
    },
    {
      "cell_type": "markdown",
      "source": [
        " Convert to DataFrame and Encode\n"
      ],
      "metadata": {
        "id": "GSOsXH20kwX7"
      }
    },
    {
      "cell_type": "code",
      "source": [
        "import pandas as pd\n",
        "from sklearn.preprocessing import LabelEncoder\n",
        "\n",
        "# Sample dataset (you can replace this with your actual data)\n",
        "data = [\n",
        "    {\"text\": \"I'm feeling great today!\", \"emotion\": \"joy\"},\n",
        "    {\"text\": \"This is so frustrating and annoying.\", \"emotion\": \"anger\"},\n",
        "    {\"text\": \"I miss you so much.\", \"emotion\": \"sadness\"},\n",
        "    {\"text\": \"I’m scared about the future.\", \"emotion\": \"fear\"},\n",
        "    {\"text\": \"What a wonderful surprise!\", \"emotion\": \"surprise\"},\n",
        "    {\"text\": \"I’m so proud of myself!\", \"emotion\": \"joy\"},\n",
        "    {\"text\": \"Everything is going wrong!\", \"emotion\": \"anger\"},\n",
        "    {\"text\": \"I just want to cry.\", \"emotion\": \"sadness\"},\n",
        "    {\"text\": \"That really shocked me!\", \"emotion\": \"surprise\"},\n",
        "    {\"text\": \"I feel anxious and nervous.\", \"emotion\": \"fear\"}\n",
        "]\n",
        "\n",
        "# Convert the data into a DataFrame\n",
        "df = pd.DataFrame(data)\n",
        "\n",
        "# Check the DataFrame\n",
        "print(\"Original DataFrame:\")\n",
        "print(df)\n",
        "\n",
        "# --------------------------------------------\n",
        "# 1. Label Encoding (for a single column)\n",
        "# --------------------------------------------\n",
        "label_encoder = LabelEncoder()\n",
        "\n",
        "# Encode the 'emotion' column (target)\n",
        "df['emotion_encoded'] = label_encoder.fit_transform(df['emotion'])\n",
        "\n",
        "# Show the DataFrame after label encoding\n",
        "print(\"\\nDataFrame with Label Encoding:\")\n",
        "print(df)\n",
        "\n",
        "# --------------------------------------------\n",
        "# 2. One-Hot Encoding (for the 'emotion' column)\n",
        "# --------------------------------------------\n",
        "# Perform one-hot encoding for the 'emotion' column\n",
        "df_one_hot = pd.get_dummies(df, columns=['emotion'], prefix=['emotion'])\n",
        "\n",
        "# Show the DataFrame after one-hot encoding\n",
        "print(\"\\nDataFrame with One-Hot Encoding:\")\n",
        "print(df_one_hot)\n",
        "\n"
      ],
      "metadata": {
        "colab": {
          "base_uri": "https://localhost:8080/"
        },
        "id": "COQC0eAgkz0g",
        "outputId": "6d1d1ec2-1d46-44d4-dec2-c47890d09381"
      },
      "execution_count": null,
      "outputs": [
        {
          "output_type": "stream",
          "name": "stdout",
          "text": [
            "Original DataFrame:\n",
            "                                   text   emotion\n",
            "0              I'm feeling great today!       joy\n",
            "1  This is so frustrating and annoying.     anger\n",
            "2                   I miss you so much.   sadness\n",
            "3          I’m scared about the future.      fear\n",
            "4            What a wonderful surprise!  surprise\n",
            "5               I’m so proud of myself!       joy\n",
            "6            Everything is going wrong!     anger\n",
            "7                   I just want to cry.   sadness\n",
            "8               That really shocked me!  surprise\n",
            "9           I feel anxious and nervous.      fear\n",
            "\n",
            "DataFrame with Label Encoding:\n",
            "                                   text   emotion  emotion_encoded\n",
            "0              I'm feeling great today!       joy                2\n",
            "1  This is so frustrating and annoying.     anger                0\n",
            "2                   I miss you so much.   sadness                3\n",
            "3          I’m scared about the future.      fear                1\n",
            "4            What a wonderful surprise!  surprise                4\n",
            "5               I’m so proud of myself!       joy                2\n",
            "6            Everything is going wrong!     anger                0\n",
            "7                   I just want to cry.   sadness                3\n",
            "8               That really shocked me!  surprise                4\n",
            "9           I feel anxious and nervous.      fear                1\n",
            "\n",
            "DataFrame with One-Hot Encoding:\n",
            "                                   text  emotion_encoded  emotion_anger  \\\n",
            "0              I'm feeling great today!                2          False   \n",
            "1  This is so frustrating and annoying.                0           True   \n",
            "2                   I miss you so much.                3          False   \n",
            "3          I’m scared about the future.                1          False   \n",
            "4            What a wonderful surprise!                4          False   \n",
            "5               I’m so proud of myself!                2          False   \n",
            "6            Everything is going wrong!                0           True   \n",
            "7                   I just want to cry.                3          False   \n",
            "8               That really shocked me!                4          False   \n",
            "9           I feel anxious and nervous.                1          False   \n",
            "\n",
            "   emotion_fear  emotion_joy  emotion_sadness  emotion_surprise  \n",
            "0         False         True            False             False  \n",
            "1         False        False            False             False  \n",
            "2         False        False             True             False  \n",
            "3          True        False            False             False  \n",
            "4         False        False            False              True  \n",
            "5         False         True            False             False  \n",
            "6         False        False            False             False  \n",
            "7         False        False             True             False  \n",
            "8         False        False            False              True  \n",
            "9          True        False            False             False  \n"
          ]
        }
      ]
    },
    {
      "cell_type": "markdown",
      "source": [
        " Predict the Final Grade"
      ],
      "metadata": {
        "id": "7n3btXfNlExA"
      }
    },
    {
      "cell_type": "code",
      "source": [
        "import pandas as pd\n",
        "from sklearn.model_selection import train_test_split\n",
        "from sklearn.preprocessing import LabelEncoder, StandardScaler\n",
        "from sklearn.linear_model import LinearRegression\n",
        "from sklearn.metrics import mean_squared_error, r2_score\n",
        "\n",
        "# Sample data (replace this with your actual dataset)\n",
        "data = [\n",
        "    {\"studytime\": 2, \"failures\": 0, \"health\": 3, \"G3\": 12},\n",
        "    {\"studytime\": 3, \"failures\": 1, \"health\": 2, \"G3\": 14},\n",
        "    {\"studytime\": 1, \"failures\": 0, \"health\": 1, \"G3\": 10},\n",
        "    {\"studytime\": 4, \"failures\": 0, \"health\": 5, \"G3\": 16},\n",
        "    {\"studytime\": 2, \"failures\": 2, \"health\": 3, \"G3\": 11},\n",
        "    {\"studytime\": 3, \"failures\": 1, \"health\": 2, \"G3\": 15},\n",
        "    {\"studytime\": 4, \"failures\": 0, \"health\": 4, \"G3\": 17},\n",
        "    {\"studytime\": 1, \"failures\": 1, \"health\": 1, \"G3\": 9},\n",
        "    {\"studytime\": 3, \"failures\": 0, \"health\": 3, \"G3\": 13},\n",
        "    {\"studytime\": 2, \"failures\": 1, \"health\": 4, \"G3\": 12}\n",
        "]\n",
        "\n",
        "# Create DataFrame\n",
        "df = pd.DataFrame(data)\n",
        "\n",
        "# Features and Target\n",
        "X = df[['studytime', 'failures', 'health']]  # Features\n",
        "y = df['G3']  # Target (final grade)\n",
        "\n",
        "# Split the dataset into training and testing sets (80% train, 20% test)\n",
        "X_train, X_test, y_train, y_test = train_test_split(X, y, test_size=0.2, random_state=42)\n",
        "\n",
        "# Feature Scaling (Standardize the features)\n",
        "scaler = StandardScaler()\n",
        "X_train_scaled = scaler.fit_transform(X_train)\n",
        "X_test_scaled = scaler.transform(X_test)\n",
        "\n",
        "# Initialize the Linear Regression model\n",
        "model = LinearRegression()\n",
        "\n",
        "# Train the model\n",
        "model.fit(X_train_scaled, y_train)\n",
        "\n",
        "# Make predictions\n",
        "y_pred = model.predict(X_test_scaled)\n",
        "\n",
        "# Evaluate the model\n",
        "mse = mean_squared_error(y_test, y_pred)\n",
        "r2 = r2_score(y_test, y_pred)\n",
        "\n",
        "# Print evaluation metrics\n",
        "print(f\"Mean Squared Error (MSE): {mse:.2f}\")\n",
        "print(f\"R-squared (R2): {r2:.2f}\")\n",
        "\n",
        "# Print predictions and actual values\n",
        "print(\"\\nPredictions vs Actual values:\")\n",
        "for pred, actual in zip(y_pred, y_test):\n",
        "    print(f\"Predicted: {pred:.2f}, Actual: {actual:.2f}\")\n"
      ],
      "metadata": {
        "colab": {
          "base_uri": "https://localhost:8080/"
        },
        "id": "dHD1F4SzlH0C",
        "outputId": "54574f2d-e50c-4b0e-d7f6-bddf1213c4cb"
      },
      "execution_count": null,
      "outputs": [
        {
          "output_type": "stream",
          "name": "stdout",
          "text": [
            "Mean Squared Error (MSE): 1.32\n",
            "R-squared (R2): -4.29\n",
            "\n",
            "Predictions vs Actual values:\n",
            "Predicted: 14.55, Actual: 13.00\n",
            "Predicted: 14.50, Actual: 14.00\n"
          ]
        }
      ]
    },
    {
      "cell_type": "markdown",
      "source": [
        " Deployment-Building an Interactive App\n"
      ],
      "metadata": {
        "id": "Df0WV32_lTP0"
      }
    },
    {
      "cell_type": "code",
      "source": [
        "import numpy as np\n",
        "from tensorflow.keras.preprocessing.sequence import pad_sequences\n",
        "from tensorflow.keras.preprocessing.text import Tokenizer\n",
        "\n",
        "# ----- Simulated Trained Model -----\n",
        "class FakeEmotionModel:\n",
        "    def predict(self, x):\n",
        "        # Returns dummy prediction values for 6 classes\n",
        "        return np.array([[0.1, 0.2, 0.3, 0.1, 0.2, 0.1]])\n",
        "\n",
        "# ----- Simulated Tokenizer -----\n",
        "def create_fake_tokenizer():\n",
        "    tokenizer = Tokenizer(num_words=1000)\n",
        "    sample_texts = [\n",
        "        \"I am happy\", \"I am sad\", \"I am angry\", \"I am scared\", \"I am surprised\", \"I feel nothing\"\n",
        "    ]\n",
        "    tokenizer.fit_on_texts(sample_texts)\n",
        "    return tokenizer\n",
        "\n",
        "# Load model and tokenizer\n",
        "model = FakeEmotionModel()\n",
        "tokenizer = create_fake_tokenizer()\n",
        "\n",
        "# Emotion labels\n",
        "class_labels = ['Angry', 'Happy', 'Sad', 'Fear', 'Surprise', 'Neutral']\n",
        "\n",
        "# --------- Main Program ---------\n",
        "print(\"🎭 Emotion Detection App\")\n",
        "print(\"Type 'exit' to quit.\")\n",
        "while True:\n",
        "    text = input(\"\\nEnter a social media message: \")\n",
        "    if text.lower().strip() == \"exit\":\n",
        "        print(\"Goodbye!\")\n",
        "        break\n",
        "\n",
        "    if not text.strip():\n",
        "        print(\"⚠️ Please enter some valid text.\")\n",
        "        continue\n",
        "\n",
        "    # Preprocessing\n",
        "    sequence = tokenizer.texts_to_sequences([text])\n",
        "    padded = pad_sequences(sequence, maxlen=10)\n",
        "\n",
        "    # Prediction\n",
        "    prediction = model.predict(padded)\n",
        "    predicted_label = class_labels[np.argmax(prediction)]\n",
        "\n",
        "    # Output\n",
        "    print(f\"\\n✅ Predicted Emotion: {predicted_label}\")\n",
        "    print(\"🔬 Confidence Scores:\")\n",
        "    for label, score in zip(class_labels, prediction[0]):\n",
        "        print(f\"   {label}: {score:.2%}\")\n"
      ],
      "metadata": {
        "colab": {
          "base_uri": "https://localhost:8080/"
        },
        "id": "nnIpb_zW43al",
        "outputId": "5d18bbad-7442-4cc0-931d-7e4b362d5bf5"
      },
      "execution_count": null,
      "outputs": [
        {
          "output_type": "stream",
          "name": "stdout",
          "text": [
            "🎭 Emotion Detection App\n",
            "Type 'exit' to quit.\n",
            "\n",
            "Enter a social media message: \"I am feeling so happy today\"\n",
            "\n",
            "✅ Predicted Emotion: Sad\n",
            "🔬 Confidence Scores:\n",
            "   Angry: 10.00%\n",
            "   Happy: 20.00%\n",
            "   Sad: 30.00%\n",
            "   Fear: 10.00%\n",
            "   Surprise: 20.00%\n",
            "   Neutral: 10.00%\n",
            "\n",
            "Enter a social media message: \"I feel nothing ...just empty\"\n",
            "\n",
            "✅ Predicted Emotion: Sad\n",
            "🔬 Confidence Scores:\n",
            "   Angry: 10.00%\n",
            "   Happy: 20.00%\n",
            "   Sad: 30.00%\n",
            "   Fear: 10.00%\n",
            "   Surprise: 20.00%\n",
            "   Neutral: 10.00%\n",
            "\n",
            "Enter a social media message: nothing\n",
            "\n",
            "✅ Predicted Emotion: Sad\n",
            "🔬 Confidence Scores:\n",
            "   Angry: 10.00%\n",
            "   Happy: 20.00%\n",
            "   Sad: 30.00%\n",
            "   Fear: 10.00%\n",
            "   Surprise: 20.00%\n",
            "   Neutral: 10.00%\n",
            "\n",
            "Enter a social media message: nothing\n",
            "\n",
            "✅ Predicted Emotion: Sad\n",
            "🔬 Confidence Scores:\n",
            "   Angry: 10.00%\n",
            "   Happy: 20.00%\n",
            "   Sad: 30.00%\n",
            "   Fear: 10.00%\n",
            "   Surprise: 20.00%\n",
            "   Neutral: 10.00%\n",
            "\n",
            "Enter a social media message: i am happy\n",
            "\n",
            "✅ Predicted Emotion: Sad\n",
            "🔬 Confidence Scores:\n",
            "   Angry: 10.00%\n",
            "   Happy: 20.00%\n",
            "   Sad: 30.00%\n",
            "   Fear: 10.00%\n",
            "   Surprise: 20.00%\n",
            "   Neutral: 10.00%\n",
            "\n",
            "Enter a social media message: i am sad\n",
            "\n",
            "✅ Predicted Emotion: Sad\n",
            "🔬 Confidence Scores:\n",
            "   Angry: 10.00%\n",
            "   Happy: 20.00%\n",
            "   Sad: 30.00%\n",
            "   Fear: 10.00%\n",
            "   Surprise: 20.00%\n",
            "   Neutral: 10.00%\n",
            "\n",
            "Enter a social media message: Exit\n",
            "Goodbye!\n"
          ]
        }
      ]
    }
  ]
}